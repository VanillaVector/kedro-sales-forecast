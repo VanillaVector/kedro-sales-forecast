{
 "cells": [
  {
   "cell_type": "code",
   "execution_count": 1,
   "id": "de12e7f3",
   "metadata": {},
   "outputs": [],
   "source": [
    "import pandas as pd\n",
    "import great_expectations as ge"
   ]
  },
  {
   "cell_type": "code",
   "execution_count": 2,
   "id": "720daea9",
   "metadata": {},
   "outputs": [
    {
     "data": {
      "text/html": [
       "<pre style=\"white-space:pre;overflow-x:auto;line-height:normal;font-family:Menlo,'DejaVu Sans Mono',consolas,'Courier New',monospace\"></pre>\n"
      ],
      "text/plain": []
     },
     "metadata": {},
     "output_type": "display_data"
    },
    {
     "data": {
      "text/plain": [
       "\n",
       "\u001b[1m[\u001b[0m\n",
       "    \u001b[32m'stores'\u001b[0m,\n",
       "    \u001b[32m'calendar'\u001b[0m,\n",
       "    \u001b[32m'sales'\u001b[0m,\n",
       "    \u001b[32m'preprocessed_stores'\u001b[0m,\n",
       "    \u001b[32m'preprocessed_sales'\u001b[0m,\n",
       "    \u001b[32m'store_sales_weekly'\u001b[0m,\n",
       "    \u001b[32m'train_data'\u001b[0m,\n",
       "    \u001b[32m'test_data'\u001b[0m,\n",
       "    \u001b[32m'future_data'\u001b[0m,\n",
       "    \u001b[32m'forecast_model'\u001b[0m,\n",
       "    \u001b[32m'metrics'\u001b[0m,\n",
       "    \u001b[32m'predictions'\u001b[0m,\n",
       "    \u001b[32m'parameters'\u001b[0m,\n",
       "    \u001b[32m'params:model_options'\u001b[0m,\n",
       "    \u001b[32m'params:model_options.split_date'\u001b[0m,\n",
       "    \u001b[32m'params:model_options.random_state'\u001b[0m,\n",
       "    \u001b[32m'params:model_options.n_estimators'\u001b[0m,\n",
       "    \u001b[32m'params:model_options.num_threads'\u001b[0m,\n",
       "    \u001b[32m'params:model_options.freqency'\u001b[0m,\n",
       "    \u001b[32m'params:model_options.horizon'\u001b[0m,\n",
       "    \u001b[32m'params:model_options.lags'\u001b[0m,\n",
       "    \u001b[32m'params:model_options.date_features'\u001b[0m,\n",
       "    \u001b[32m'params:model_options.static_features'\u001b[0m,\n",
       "    \u001b[32m'params:model_options.exogenous_features'\u001b[0m\n",
       "\u001b[1m]\u001b[0m"
      ]
     },
     "execution_count": 2,
     "metadata": {},
     "output_type": "execute_result"
    }
   ],
   "source": [
    "catalog.list()"
   ]
  },
  {
   "cell_type": "code",
   "execution_count": 5,
   "id": "5770a763",
   "metadata": {},
   "outputs": [
    {
     "data": {
      "text/html": [
       "<pre style=\"white-space:pre;overflow-x:auto;line-height:normal;font-family:Menlo,'DejaVu Sans Mono',consolas,'Courier New',monospace\"><span style=\"color: #7fbfbf; text-decoration-color: #7fbfbf\">[12/25/23 20:53:31] </span><span style=\"color: #000080; text-decoration-color: #000080\">INFO    </span> Loading data from <span style=\"color: #ff8700; text-decoration-color: #ff8700\">stores</span> <span style=\"font-weight: bold\">(</span>CSVDataset<span style=\"font-weight: bold\">)</span><span style=\"color: #808000; text-decoration-color: #808000\">...</span>                           <a href=\"file:///home/karl/miniconda3/envs/python_3.9_time/lib/python3.9/site-packages/kedro/io/data_catalog.py\" target=\"_blank\"><span style=\"color: #7f7f7f; text-decoration-color: #7f7f7f\">data_catalog.py</span></a><span style=\"color: #7f7f7f; text-decoration-color: #7f7f7f\">:</span><a href=\"file:///home/karl/miniconda3/envs/python_3.9_time/lib/python3.9/site-packages/kedro/io/data_catalog.py#482\" target=\"_blank\"><span style=\"color: #7f7f7f; text-decoration-color: #7f7f7f\">482</span></a>\n",
       "</pre>\n"
      ],
      "text/plain": [
       "\u001b[2;36m[12/25/23 20:53:31]\u001b[0m\u001b[2;36m \u001b[0m\u001b[34mINFO    \u001b[0m Loading data from \u001b[38;5;208mstores\u001b[0m \u001b[1m(\u001b[0mCSVDataset\u001b[1m)\u001b[0m\u001b[33m...\u001b[0m                           \u001b]8;id=754203;file:///home/karl/miniconda3/envs/python_3.9_time/lib/python3.9/site-packages/kedro/io/data_catalog.py\u001b\\\u001b[2mdata_catalog.py\u001b[0m\u001b]8;;\u001b\\\u001b[2m:\u001b[0m\u001b]8;id=624358;file:///home/karl/miniconda3/envs/python_3.9_time/lib/python3.9/site-packages/kedro/io/data_catalog.py#482\u001b\\\u001b[2m482\u001b[0m\u001b]8;;\u001b\\\n"
      ]
     },
     "metadata": {},
     "output_type": "display_data"
    },
    {
     "data": {
      "text/html": [
       "<pre style=\"white-space:pre;overflow-x:auto;line-height:normal;font-family:Menlo,'DejaVu Sans Mono',consolas,'Courier New',monospace\"></pre>\n"
      ],
      "text/plain": []
     },
     "metadata": {},
     "output_type": "display_data"
    },
    {
     "data": {
      "text/html": [
       "<div>\n",
       "<style scoped>\n",
       "    .dataframe tbody tr th:only-of-type {\n",
       "        vertical-align: middle;\n",
       "    }\n",
       "\n",
       "    .dataframe tbody tr th {\n",
       "        vertical-align: top;\n",
       "    }\n",
       "\n",
       "    .dataframe thead th {\n",
       "        text-align: right;\n",
       "    }\n",
       "</style>\n",
       "<table border=\"1\" class=\"dataframe\">\n",
       "  <thead>\n",
       "    <tr style=\"text-align: right;\">\n",
       "      <th></th>\n",
       "      <th>Store</th>\n",
       "      <th>Size</th>\n",
       "      <th>Type</th>\n",
       "    </tr>\n",
       "  </thead>\n",
       "  <tbody>\n",
       "    <tr>\n",
       "      <th>0</th>\n",
       "      <td>id_0</td>\n",
       "      <td>82</td>\n",
       "      <td>B</td>\n",
       "    </tr>\n",
       "    <tr>\n",
       "      <th>1</th>\n",
       "      <td>id_1</td>\n",
       "      <td>90</td>\n",
       "      <td>A</td>\n",
       "    </tr>\n",
       "    <tr>\n",
       "      <th>2</th>\n",
       "      <td>id_2</td>\n",
       "      <td>67</td>\n",
       "      <td>B</td>\n",
       "    </tr>\n",
       "    <tr>\n",
       "      <th>3</th>\n",
       "      <td>id_3</td>\n",
       "      <td>98</td>\n",
       "      <td>B</td>\n",
       "    </tr>\n",
       "    <tr>\n",
       "      <th>4</th>\n",
       "      <td>id_4</td>\n",
       "      <td>85</td>\n",
       "      <td>A</td>\n",
       "    </tr>\n",
       "  </tbody>\n",
       "</table>\n",
       "</div>"
      ],
      "text/plain": [
       "\n",
       "  Store  Size Type\n",
       "\u001b[1;36m0\u001b[0m  id_0    \u001b[1;36m82\u001b[0m    B\n",
       "\u001b[1;36m1\u001b[0m  id_1    \u001b[1;36m90\u001b[0m    A\n",
       "\u001b[1;36m2\u001b[0m  id_2    \u001b[1;36m67\u001b[0m    B\n",
       "\u001b[1;36m3\u001b[0m  id_3    \u001b[1;36m98\u001b[0m    B\n",
       "\u001b[1;36m4\u001b[0m  id_4    \u001b[1;36m85\u001b[0m    A"
      ]
     },
     "execution_count": 5,
     "metadata": {},
     "output_type": "execute_result"
    }
   ],
   "source": [
    "df_stores = pd.DataFrame(catalog.load('stores'))\n",
    "df_stores.head()"
   ]
  },
  {
   "cell_type": "code",
   "execution_count": 6,
   "id": "4605ae59",
   "metadata": {},
   "outputs": [],
   "source": [
    "gdf_stores = ge.from_pandas(df_stores)"
   ]
  },
  {
   "cell_type": "code",
   "execution_count": null,
   "id": "8b2285b2",
   "metadata": {},
   "outputs": [],
   "source": [
    "gdf_stores"
   ]
  }
 ],
 "metadata": {
  "kernelspec": {
   "display_name": "Kedro (kedro_sales_forecast)",
   "language": "python",
   "name": "kedro_kedro_sales_forecast"
  },
  "language_info": {
   "codemirror_mode": {
    "name": "ipython",
    "version": 3
   },
   "file_extension": ".py",
   "mimetype": "text/x-python",
   "name": "python",
   "nbconvert_exporter": "python",
   "pygments_lexer": "ipython3",
   "version": "3.9.18"
  }
 },
 "nbformat": 4,
 "nbformat_minor": 5
}
