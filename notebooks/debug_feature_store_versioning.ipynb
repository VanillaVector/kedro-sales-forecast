{
 "cells": [
  {
   "cell_type": "code",
   "execution_count": 39,
   "id": "6d2304f8",
   "metadata": {},
   "outputs": [],
   "source": [
    "import pandas as pd"
   ]
  },
  {
   "cell_type": "code",
   "execution_count": 40,
   "id": "b993415f",
   "metadata": {},
   "outputs": [
    {
     "data": {
      "text/html": [
       "<pre style=\"white-space:pre;overflow-x:auto;line-height:normal;font-family:Menlo,'DejaVu Sans Mono',consolas,'Courier New',monospace\"></pre>\n"
      ],
      "text/plain": []
     },
     "metadata": {},
     "output_type": "display_data"
    },
    {
     "data": {
      "text/plain": [
       "\n",
       "\u001b[1m[\u001b[0m\n",
       "    \u001b[32m'stores'\u001b[0m,\n",
       "    \u001b[32m'calendar'\u001b[0m,\n",
       "    \u001b[32m'sales'\u001b[0m,\n",
       "    \u001b[32m'preprocessed_stores'\u001b[0m,\n",
       "    \u001b[32m'preprocessed_sales'\u001b[0m,\n",
       "    \u001b[32m'store_sales_weekly'\u001b[0m,\n",
       "    \u001b[32m'train_data'\u001b[0m,\n",
       "    \u001b[32m'test_data'\u001b[0m,\n",
       "    \u001b[32m'future_data'\u001b[0m,\n",
       "    \u001b[32m'forecast_model'\u001b[0m,\n",
       "    \u001b[32m'predictions'\u001b[0m,\n",
       "    \u001b[32m'parameters'\u001b[0m,\n",
       "    \u001b[32m'params:model_options'\u001b[0m,\n",
       "    \u001b[32m'params:model_options.split_date'\u001b[0m,\n",
       "    \u001b[32m'params:model_options.random_state'\u001b[0m,\n",
       "    \u001b[32m'params:model_options.n_estimators'\u001b[0m,\n",
       "    \u001b[32m'params:model_options.num_threads'\u001b[0m,\n",
       "    \u001b[32m'params:model_options.freqency'\u001b[0m,\n",
       "    \u001b[32m'params:model_options.horizon'\u001b[0m,\n",
       "    \u001b[32m'params:model_options.lags'\u001b[0m,\n",
       "    \u001b[32m'params:model_options.date_features'\u001b[0m,\n",
       "    \u001b[32m'params:model_options.static_features'\u001b[0m,\n",
       "    \u001b[32m'params:model_options.exogenous_features'\u001b[0m\n",
       "\u001b[1m]\u001b[0m"
      ]
     },
     "execution_count": 40,
     "metadata": {},
     "output_type": "execute_result"
    }
   ],
   "source": [
    "catalog.list()"
   ]
  },
  {
   "cell_type": "code",
   "execution_count": 41,
   "id": "8909ecfd",
   "metadata": {},
   "outputs": [
    {
     "data": {
      "text/html": [
       "<pre style=\"white-space:pre;overflow-x:auto;line-height:normal;font-family:Menlo,'DejaVu Sans Mono',consolas,'Courier New',monospace\"><span style=\"color: #7fbfbf; text-decoration-color: #7fbfbf\">[12/24/23 17:37:43] </span><span style=\"color: #000080; text-decoration-color: #000080\">INFO    </span> Loading data from <span style=\"color: #ff8700; text-decoration-color: #ff8700\">future_data</span> <span style=\"font-weight: bold\">(</span>ParquetDataset<span style=\"font-weight: bold\">)</span><span style=\"color: #808000; text-decoration-color: #808000\">...</span>                  <a href=\"file:///home/karl/miniconda3/envs/python_3.9_time/lib/python3.9/site-packages/kedro/io/data_catalog.py\" target=\"_blank\"><span style=\"color: #7f7f7f; text-decoration-color: #7f7f7f\">data_catalog.py</span></a><span style=\"color: #7f7f7f; text-decoration-color: #7f7f7f\">:</span><a href=\"file:///home/karl/miniconda3/envs/python_3.9_time/lib/python3.9/site-packages/kedro/io/data_catalog.py#482\" target=\"_blank\"><span style=\"color: #7f7f7f; text-decoration-color: #7f7f7f\">482</span></a>\n",
       "</pre>\n"
      ],
      "text/plain": [
       "\u001b[2;36m[12/24/23 17:37:43]\u001b[0m\u001b[2;36m \u001b[0m\u001b[34mINFO    \u001b[0m Loading data from \u001b[38;5;208mfuture_data\u001b[0m \u001b[1m(\u001b[0mParquetDataset\u001b[1m)\u001b[0m\u001b[33m...\u001b[0m                  \u001b]8;id=311540;file:///home/karl/miniconda3/envs/python_3.9_time/lib/python3.9/site-packages/kedro/io/data_catalog.py\u001b\\\u001b[2mdata_catalog.py\u001b[0m\u001b]8;;\u001b\\\u001b[2m:\u001b[0m\u001b]8;id=251673;file:///home/karl/miniconda3/envs/python_3.9_time/lib/python3.9/site-packages/kedro/io/data_catalog.py#482\u001b\\\u001b[2m482\u001b[0m\u001b]8;;\u001b\\\n"
      ]
     },
     "metadata": {},
     "output_type": "display_data"
    }
   ],
   "source": [
    "future_data = pd.DataFrame(catalog.load(\"future_data\"))"
   ]
  },
  {
   "cell_type": "code",
   "execution_count": 42,
   "id": "f119a7be",
   "metadata": {},
   "outputs": [
    {
     "data": {
      "text/html": [
       "<pre style=\"white-space:pre;overflow-x:auto;line-height:normal;font-family:Menlo,'DejaVu Sans Mono',consolas,'Courier New',monospace\"></pre>\n"
      ],
      "text/plain": []
     },
     "metadata": {},
     "output_type": "display_data"
    },
    {
     "data": {
      "text/html": [
       "<div>\n",
       "<style scoped>\n",
       "    .dataframe tbody tr th:only-of-type {\n",
       "        vertical-align: middle;\n",
       "    }\n",
       "\n",
       "    .dataframe tbody tr th {\n",
       "        vertical-align: top;\n",
       "    }\n",
       "\n",
       "    .dataframe thead th {\n",
       "        text-align: right;\n",
       "    }\n",
       "</style>\n",
       "<table border=\"1\" class=\"dataframe\">\n",
       "  <thead>\n",
       "    <tr style=\"text-align: right;\">\n",
       "      <th></th>\n",
       "      <th>unique_id</th>\n",
       "      <th>ds</th>\n",
       "      <th>IsHoliday</th>\n",
       "      <th>Temperature</th>\n",
       "      <th>Fuel_Price</th>\n",
       "      <th>Unemployment</th>\n",
       "      <th>CPI</th>\n",
       "    </tr>\n",
       "  </thead>\n",
       "  <tbody>\n",
       "    <tr>\n",
       "      <th>2252</th>\n",
       "      <td>id_0</td>\n",
       "      <td>2009-05-03</td>\n",
       "      <td>0</td>\n",
       "      <td>33.012906</td>\n",
       "      <td>3.481951</td>\n",
       "      <td>7.511252</td>\n",
       "      <td>6.249922</td>\n",
       "    </tr>\n",
       "    <tr>\n",
       "      <th>2254</th>\n",
       "      <td>id_1</td>\n",
       "      <td>2009-05-03</td>\n",
       "      <td>0</td>\n",
       "      <td>33.012906</td>\n",
       "      <td>3.481951</td>\n",
       "      <td>7.511252</td>\n",
       "      <td>6.249922</td>\n",
       "    </tr>\n",
       "    <tr>\n",
       "      <th>2253</th>\n",
       "      <td>id_2</td>\n",
       "      <td>2009-05-03</td>\n",
       "      <td>0</td>\n",
       "      <td>33.012906</td>\n",
       "      <td>3.481951</td>\n",
       "      <td>7.511252</td>\n",
       "      <td>6.249922</td>\n",
       "    </tr>\n",
       "    <tr>\n",
       "      <th>2251</th>\n",
       "      <td>id_3</td>\n",
       "      <td>2009-05-03</td>\n",
       "      <td>0</td>\n",
       "      <td>33.012906</td>\n",
       "      <td>3.481951</td>\n",
       "      <td>7.511252</td>\n",
       "      <td>6.249922</td>\n",
       "    </tr>\n",
       "    <tr>\n",
       "      <th>2247</th>\n",
       "      <td>id_4</td>\n",
       "      <td>2009-05-03</td>\n",
       "      <td>0</td>\n",
       "      <td>33.012906</td>\n",
       "      <td>3.481951</td>\n",
       "      <td>7.511252</td>\n",
       "      <td>6.249922</td>\n",
       "    </tr>\n",
       "    <tr>\n",
       "      <th>...</th>\n",
       "      <td>...</td>\n",
       "      <td>...</td>\n",
       "      <td>...</td>\n",
       "      <td>...</td>\n",
       "      <td>...</td>\n",
       "      <td>...</td>\n",
       "      <td>...</td>\n",
       "    </tr>\n",
       "    <tr>\n",
       "      <th>2368</th>\n",
       "      <td>id_5</td>\n",
       "      <td>2009-07-26</td>\n",
       "      <td>0</td>\n",
       "      <td>24.281588</td>\n",
       "      <td>3.048330</td>\n",
       "      <td>4.224699</td>\n",
       "      <td>7.841467</td>\n",
       "    </tr>\n",
       "    <tr>\n",
       "      <th>2370</th>\n",
       "      <td>id_6</td>\n",
       "      <td>2009-07-26</td>\n",
       "      <td>0</td>\n",
       "      <td>24.281588</td>\n",
       "      <td>3.048330</td>\n",
       "      <td>4.224699</td>\n",
       "      <td>7.841467</td>\n",
       "    </tr>\n",
       "    <tr>\n",
       "      <th>2366</th>\n",
       "      <td>id_7</td>\n",
       "      <td>2009-07-26</td>\n",
       "      <td>0</td>\n",
       "      <td>24.281588</td>\n",
       "      <td>3.048330</td>\n",
       "      <td>4.224699</td>\n",
       "      <td>7.841467</td>\n",
       "    </tr>\n",
       "    <tr>\n",
       "      <th>2375</th>\n",
       "      <td>id_8</td>\n",
       "      <td>2009-07-26</td>\n",
       "      <td>0</td>\n",
       "      <td>24.281588</td>\n",
       "      <td>3.048330</td>\n",
       "      <td>4.224699</td>\n",
       "      <td>7.841467</td>\n",
       "    </tr>\n",
       "    <tr>\n",
       "      <th>2369</th>\n",
       "      <td>id_9</td>\n",
       "      <td>2009-07-26</td>\n",
       "      <td>0</td>\n",
       "      <td>24.281588</td>\n",
       "      <td>3.048330</td>\n",
       "      <td>4.224699</td>\n",
       "      <td>7.841467</td>\n",
       "    </tr>\n",
       "  </tbody>\n",
       "</table>\n",
       "<p>130 rows × 7 columns</p>\n",
       "</div>"
      ],
      "text/plain": [
       "\n",
       "     unique_id         ds  IsHoliday  Temperature  Fuel_Price  Unemployment  \\\n",
       "\u001b[1;36m2252\u001b[0m      id_0 \u001b[1;36m2009\u001b[0m-\u001b[1;36m05\u001b[0m-\u001b[1;36m03\u001b[0m          \u001b[1;36m0\u001b[0m    \u001b[1;36m33.012906\u001b[0m    \u001b[1;36m3.481951\u001b[0m      \u001b[1;36m7.511252\u001b[0m   \n",
       "\u001b[1;36m2254\u001b[0m      id_1 \u001b[1;36m2009\u001b[0m-\u001b[1;36m05\u001b[0m-\u001b[1;36m03\u001b[0m          \u001b[1;36m0\u001b[0m    \u001b[1;36m33.012906\u001b[0m    \u001b[1;36m3.481951\u001b[0m      \u001b[1;36m7.511252\u001b[0m   \n",
       "\u001b[1;36m2253\u001b[0m      id_2 \u001b[1;36m2009\u001b[0m-\u001b[1;36m05\u001b[0m-\u001b[1;36m03\u001b[0m          \u001b[1;36m0\u001b[0m    \u001b[1;36m33.012906\u001b[0m    \u001b[1;36m3.481951\u001b[0m      \u001b[1;36m7.511252\u001b[0m   \n",
       "\u001b[1;36m2251\u001b[0m      id_3 \u001b[1;36m2009\u001b[0m-\u001b[1;36m05\u001b[0m-\u001b[1;36m03\u001b[0m          \u001b[1;36m0\u001b[0m    \u001b[1;36m33.012906\u001b[0m    \u001b[1;36m3.481951\u001b[0m      \u001b[1;36m7.511252\u001b[0m   \n",
       "\u001b[1;36m2247\u001b[0m      id_4 \u001b[1;36m2009\u001b[0m-\u001b[1;36m05\u001b[0m-\u001b[1;36m03\u001b[0m          \u001b[1;36m0\u001b[0m    \u001b[1;36m33.012906\u001b[0m    \u001b[1;36m3.481951\u001b[0m      \u001b[1;36m7.511252\u001b[0m   \n",
       "\u001b[33m...\u001b[0m        \u001b[33m...\u001b[0m        \u001b[33m...\u001b[0m        \u001b[33m...\u001b[0m          \u001b[33m...\u001b[0m         \u001b[33m...\u001b[0m           \u001b[33m...\u001b[0m   \n",
       "\u001b[1;36m2368\u001b[0m      id_5 \u001b[1;36m2009\u001b[0m-\u001b[1;36m07\u001b[0m-\u001b[1;36m26\u001b[0m          \u001b[1;36m0\u001b[0m    \u001b[1;36m24.281588\u001b[0m    \u001b[1;36m3.048330\u001b[0m      \u001b[1;36m4.224699\u001b[0m   \n",
       "\u001b[1;36m2370\u001b[0m      id_6 \u001b[1;36m2009\u001b[0m-\u001b[1;36m07\u001b[0m-\u001b[1;36m26\u001b[0m          \u001b[1;36m0\u001b[0m    \u001b[1;36m24.281588\u001b[0m    \u001b[1;36m3.048330\u001b[0m      \u001b[1;36m4.224699\u001b[0m   \n",
       "\u001b[1;36m2366\u001b[0m      id_7 \u001b[1;36m2009\u001b[0m-\u001b[1;36m07\u001b[0m-\u001b[1;36m26\u001b[0m          \u001b[1;36m0\u001b[0m    \u001b[1;36m24.281588\u001b[0m    \u001b[1;36m3.048330\u001b[0m      \u001b[1;36m4.224699\u001b[0m   \n",
       "\u001b[1;36m2375\u001b[0m      id_8 \u001b[1;36m2009\u001b[0m-\u001b[1;36m07\u001b[0m-\u001b[1;36m26\u001b[0m          \u001b[1;36m0\u001b[0m    \u001b[1;36m24.281588\u001b[0m    \u001b[1;36m3.048330\u001b[0m      \u001b[1;36m4.224699\u001b[0m   \n",
       "\u001b[1;36m2369\u001b[0m      id_9 \u001b[1;36m2009\u001b[0m-\u001b[1;36m07\u001b[0m-\u001b[1;36m26\u001b[0m          \u001b[1;36m0\u001b[0m    \u001b[1;36m24.281588\u001b[0m    \u001b[1;36m3.048330\u001b[0m      \u001b[1;36m4.224699\u001b[0m   \n",
       "\n",
       "           CPI  \n",
       "\u001b[1;36m2252\u001b[0m  \u001b[1;36m6.249922\u001b[0m  \n",
       "\u001b[1;36m2254\u001b[0m  \u001b[1;36m6.249922\u001b[0m  \n",
       "\u001b[1;36m2253\u001b[0m  \u001b[1;36m6.249922\u001b[0m  \n",
       "\u001b[1;36m2251\u001b[0m  \u001b[1;36m6.249922\u001b[0m  \n",
       "\u001b[1;36m2247\u001b[0m  \u001b[1;36m6.249922\u001b[0m  \n",
       "\u001b[33m...\u001b[0m        \u001b[33m...\u001b[0m  \n",
       "\u001b[1;36m2368\u001b[0m  \u001b[1;36m7.841467\u001b[0m  \n",
       "\u001b[1;36m2370\u001b[0m  \u001b[1;36m7.841467\u001b[0m  \n",
       "\u001b[1;36m2366\u001b[0m  \u001b[1;36m7.841467\u001b[0m  \n",
       "\u001b[1;36m2375\u001b[0m  \u001b[1;36m7.841467\u001b[0m  \n",
       "\u001b[1;36m2369\u001b[0m  \u001b[1;36m7.841467\u001b[0m  \n",
       "\n",
       "\u001b[1m[\u001b[0m\u001b[1;36m130\u001b[0m rows x \u001b[1;36m7\u001b[0m columns\u001b[1m]\u001b[0m"
      ]
     },
     "execution_count": 42,
     "metadata": {},
     "output_type": "execute_result"
    }
   ],
   "source": [
    "future_data"
   ]
  },
  {
   "cell_type": "code",
   "execution_count": 43,
   "id": "b4c3bd0a",
   "metadata": {},
   "outputs": [
    {
     "data": {
      "text/html": [
       "<pre style=\"white-space:pre;overflow-x:auto;line-height:normal;font-family:Menlo,'DejaVu Sans Mono',consolas,'Courier New',monospace\"><span style=\"color: #7fbfbf; text-decoration-color: #7fbfbf\">                    </span><span style=\"color: #000080; text-decoration-color: #000080\">INFO    </span> Loading data from <span style=\"color: #ff8700; text-decoration-color: #ff8700\">forecast_model</span> <span style=\"font-weight: bold\">(</span>PickleDataset<span style=\"font-weight: bold\">)</span><span style=\"color: #808000; text-decoration-color: #808000\">...</span>                <a href=\"file:///home/karl/miniconda3/envs/python_3.9_time/lib/python3.9/site-packages/kedro/io/data_catalog.py\" target=\"_blank\"><span style=\"color: #7f7f7f; text-decoration-color: #7f7f7f\">data_catalog.py</span></a><span style=\"color: #7f7f7f; text-decoration-color: #7f7f7f\">:</span><a href=\"file:///home/karl/miniconda3/envs/python_3.9_time/lib/python3.9/site-packages/kedro/io/data_catalog.py#482\" target=\"_blank\"><span style=\"color: #7f7f7f; text-decoration-color: #7f7f7f\">482</span></a>\n",
       "</pre>\n"
      ],
      "text/plain": [
       "\u001b[2;36m                   \u001b[0m\u001b[2;36m \u001b[0m\u001b[34mINFO    \u001b[0m Loading data from \u001b[38;5;208mforecast_model\u001b[0m \u001b[1m(\u001b[0mPickleDataset\u001b[1m)\u001b[0m\u001b[33m...\u001b[0m                \u001b]8;id=62366;file:///home/karl/miniconda3/envs/python_3.9_time/lib/python3.9/site-packages/kedro/io/data_catalog.py\u001b\\\u001b[2mdata_catalog.py\u001b[0m\u001b]8;;\u001b\\\u001b[2m:\u001b[0m\u001b]8;id=830310;file:///home/karl/miniconda3/envs/python_3.9_time/lib/python3.9/site-packages/kedro/io/data_catalog.py#482\u001b\\\u001b[2m482\u001b[0m\u001b]8;;\u001b\\\n"
      ]
     },
     "metadata": {},
     "output_type": "display_data"
    },
    {
     "data": {
      "text/html": [
       "<pre style=\"white-space:pre;overflow-x:auto;line-height:normal;font-family:Menlo,'DejaVu Sans Mono',consolas,'Courier New',monospace\"></pre>\n"
      ],
      "text/plain": []
     },
     "metadata": {},
     "output_type": "display_data"
    },
    {
     "data": {
      "text/plain": [
       "\u001b[1;35mMLForecast\u001b[0m\u001b[1m(\u001b[0m\u001b[33mmodels\u001b[0m=\u001b[1m[\u001b[0mXGBRegressor\u001b[1m]\u001b[0m, \u001b[33mfreq\u001b[0m=\u001b[35mW\u001b[0m, \u001b[33mlag_features\u001b[0m=\u001b[1m[\u001b[0m\u001b[32m'lag1'\u001b[0m, \u001b[32m'lag2'\u001b[0m, \u001b[32m'lag4'\u001b[0m, \u001b[32m'rolling_mean_lag1_window_size4'\u001b[0m, \u001b[32m'rolling_min_lag1_window_size4'\u001b[0m, \u001b[32m'rolling_max_lag1_window_size4'\u001b[0m\u001b[1m]\u001b[0m, \u001b[33mdate_features\u001b[0m=\u001b[1m[\u001b[0m\u001b[32m'week'\u001b[0m, \u001b[32m'month'\u001b[0m\u001b[1m]\u001b[0m, \u001b[33mnum_threads\u001b[0m=\u001b[1;36m6\u001b[0m\u001b[1m)\u001b[0m"
      ]
     },
     "execution_count": 43,
     "metadata": {},
     "output_type": "execute_result"
    }
   ],
   "source": [
    "model = catalog.load(\"forecast_model\")\n",
    "model"
   ]
  },
  {
   "cell_type": "code",
   "execution_count": 44,
   "id": "41b8b6cf",
   "metadata": {},
   "outputs": [],
   "source": [
    "# print(model.models[\"XGBRegressor\"])"
   ]
  },
  {
   "cell_type": "code",
   "execution_count": 45,
   "id": "6497b58a",
   "metadata": {},
   "outputs": [
    {
     "data": {
      "text/html": [
       "<pre style=\"white-space:pre;overflow-x:auto;line-height:normal;font-family:Menlo,'DejaVu Sans Mono',consolas,'Courier New',monospace\"><span style=\"color: #7fbfbf; text-decoration-color: #7fbfbf\">[12/24/23 17:37:44] </span><span style=\"color: #000080; text-decoration-color: #000080\">INFO    </span> Loading data from <span style=\"color: #ff8700; text-decoration-color: #ff8700\">params:model_options</span> <span style=\"font-weight: bold\">(</span>MemoryDataset<span style=\"font-weight: bold\">)</span><span style=\"color: #808000; text-decoration-color: #808000\">...</span>          <a href=\"file:///home/karl/miniconda3/envs/python_3.9_time/lib/python3.9/site-packages/kedro/io/data_catalog.py\" target=\"_blank\"><span style=\"color: #7f7f7f; text-decoration-color: #7f7f7f\">data_catalog.py</span></a><span style=\"color: #7f7f7f; text-decoration-color: #7f7f7f\">:</span><a href=\"file:///home/karl/miniconda3/envs/python_3.9_time/lib/python3.9/site-packages/kedro/io/data_catalog.py#482\" target=\"_blank\"><span style=\"color: #7f7f7f; text-decoration-color: #7f7f7f\">482</span></a>\n",
       "</pre>\n"
      ],
      "text/plain": [
       "\u001b[2;36m[12/24/23 17:37:44]\u001b[0m\u001b[2;36m \u001b[0m\u001b[34mINFO    \u001b[0m Loading data from \u001b[38;5;208mparams:model_options\u001b[0m \u001b[1m(\u001b[0mMemoryDataset\u001b[1m)\u001b[0m\u001b[33m...\u001b[0m          \u001b]8;id=630495;file:///home/karl/miniconda3/envs/python_3.9_time/lib/python3.9/site-packages/kedro/io/data_catalog.py\u001b\\\u001b[2mdata_catalog.py\u001b[0m\u001b]8;;\u001b\\\u001b[2m:\u001b[0m\u001b]8;id=44192;file:///home/karl/miniconda3/envs/python_3.9_time/lib/python3.9/site-packages/kedro/io/data_catalog.py#482\u001b\\\u001b[2m482\u001b[0m\u001b]8;;\u001b\\\n"
      ]
     },
     "metadata": {},
     "output_type": "display_data"
    },
    {
     "data": {
      "text/html": [
       "<pre style=\"white-space:pre;overflow-x:auto;line-height:normal;font-family:Menlo,'DejaVu Sans Mono',consolas,'Courier New',monospace\"></pre>\n"
      ],
      "text/plain": []
     },
     "metadata": {},
     "output_type": "display_data"
    },
    {
     "data": {
      "text/plain": [
       "\n",
       "\u001b[1m{\u001b[0m\n",
       "    \u001b[32m'split_date'\u001b[0m: \u001b[32m'2009-05-03'\u001b[0m,\n",
       "    \u001b[32m'random_state'\u001b[0m: \u001b[1;36m0\u001b[0m,\n",
       "    \u001b[32m'n_estimators'\u001b[0m: \u001b[1;36m100\u001b[0m,\n",
       "    \u001b[32m'num_threads'\u001b[0m: \u001b[1;36m6\u001b[0m,\n",
       "    \u001b[32m'freqency'\u001b[0m: \u001b[32m'W'\u001b[0m,\n",
       "    \u001b[32m'horizon'\u001b[0m: \u001b[1;36m4\u001b[0m,\n",
       "    \u001b[32m'lags'\u001b[0m: \u001b[1m[\u001b[0m\u001b[1;36m1\u001b[0m, \u001b[1;36m2\u001b[0m, \u001b[1;36m4\u001b[0m\u001b[1m]\u001b[0m,\n",
       "    \u001b[32m'date_features'\u001b[0m: \u001b[1m[\u001b[0m\u001b[32m'week'\u001b[0m, \u001b[32m'month'\u001b[0m\u001b[1m]\u001b[0m,\n",
       "    \u001b[32m'static_features'\u001b[0m: \u001b[1m[\u001b[0m\u001b[32m'Size'\u001b[0m, \u001b[32m'Type_A'\u001b[0m, \u001b[32m'Type_B'\u001b[0m\u001b[1m]\u001b[0m,\n",
       "    \u001b[32m'exogenous_features'\u001b[0m: \u001b[1m[\u001b[0m\u001b[32m'IsHoliday'\u001b[0m, \u001b[32m'Temperature'\u001b[0m, \u001b[32m'Fuel_Price'\u001b[0m, \u001b[32m'Unemployment'\u001b[0m, \u001b[32m'CPI'\u001b[0m\u001b[1m]\u001b[0m\n",
       "\u001b[1m}\u001b[0m"
      ]
     },
     "execution_count": 45,
     "metadata": {},
     "output_type": "execute_result"
    }
   ],
   "source": [
    "parameters = catalog.load(\"params:model_options\")\n",
    "parameters"
   ]
  },
  {
   "cell_type": "code",
   "execution_count": 46,
   "id": "61e15c46",
   "metadata": {},
   "outputs": [
    {
     "data": {
      "text/html": [
       "<pre style=\"white-space:pre;overflow-x:auto;line-height:normal;font-family:Menlo,'DejaVu Sans Mono',consolas,'Courier New',monospace\"></pre>\n"
      ],
      "text/plain": []
     },
     "metadata": {},
     "output_type": "display_data"
    },
    {
     "data": {
      "text/plain": [
       "\u001b[1;36m4\u001b[0m"
      ]
     },
     "execution_count": 46,
     "metadata": {},
     "output_type": "execute_result"
    }
   ],
   "source": [
    "horizon = parameters[\"horizon\"]\n",
    "horizon"
   ]
  },
  {
   "cell_type": "code",
   "execution_count": 47,
   "id": "f80a5ba6",
   "metadata": {},
   "outputs": [
    {
     "data": {
      "text/html": [
       "<pre style=\"white-space:pre;overflow-x:auto;line-height:normal;font-family:Menlo,'DejaVu Sans Mono',consolas,'Courier New',monospace\"></pre>\n"
      ],
      "text/plain": []
     },
     "metadata": {},
     "output_type": "display_data"
    },
    {
     "data": {
      "text/html": [
       "<div>\n",
       "<style scoped>\n",
       "    .dataframe tbody tr th:only-of-type {\n",
       "        vertical-align: middle;\n",
       "    }\n",
       "\n",
       "    .dataframe tbody tr th {\n",
       "        vertical-align: top;\n",
       "    }\n",
       "\n",
       "    .dataframe thead th {\n",
       "        text-align: right;\n",
       "    }\n",
       "</style>\n",
       "<table border=\"1\" class=\"dataframe\">\n",
       "  <thead>\n",
       "    <tr style=\"text-align: right;\">\n",
       "      <th></th>\n",
       "      <th>unique_id</th>\n",
       "      <th>ds</th>\n",
       "      <th>XGBRegressor</th>\n",
       "    </tr>\n",
       "  </thead>\n",
       "  <tbody>\n",
       "    <tr>\n",
       "      <th>0</th>\n",
       "      <td>id_0</td>\n",
       "      <td>2009-05-03</td>\n",
       "      <td>0.268972</td>\n",
       "    </tr>\n",
       "    <tr>\n",
       "      <th>4</th>\n",
       "      <td>id_1</td>\n",
       "      <td>2009-05-03</td>\n",
       "      <td>0.198676</td>\n",
       "    </tr>\n",
       "    <tr>\n",
       "      <th>8</th>\n",
       "      <td>id_2</td>\n",
       "      <td>2009-05-03</td>\n",
       "      <td>0.241915</td>\n",
       "    </tr>\n",
       "    <tr>\n",
       "      <th>12</th>\n",
       "      <td>id_3</td>\n",
       "      <td>2009-05-03</td>\n",
       "      <td>0.278431</td>\n",
       "    </tr>\n",
       "    <tr>\n",
       "      <th>16</th>\n",
       "      <td>id_4</td>\n",
       "      <td>2009-05-03</td>\n",
       "      <td>0.308225</td>\n",
       "    </tr>\n",
       "    <tr>\n",
       "      <th>20</th>\n",
       "      <td>id_5</td>\n",
       "      <td>2009-05-03</td>\n",
       "      <td>0.205096</td>\n",
       "    </tr>\n",
       "    <tr>\n",
       "      <th>24</th>\n",
       "      <td>id_6</td>\n",
       "      <td>2009-05-03</td>\n",
       "      <td>0.368526</td>\n",
       "    </tr>\n",
       "    <tr>\n",
       "      <th>28</th>\n",
       "      <td>id_7</td>\n",
       "      <td>2009-05-03</td>\n",
       "      <td>0.292076</td>\n",
       "    </tr>\n",
       "    <tr>\n",
       "      <th>32</th>\n",
       "      <td>id_8</td>\n",
       "      <td>2009-05-03</td>\n",
       "      <td>0.215874</td>\n",
       "    </tr>\n",
       "    <tr>\n",
       "      <th>36</th>\n",
       "      <td>id_9</td>\n",
       "      <td>2009-05-03</td>\n",
       "      <td>0.243565</td>\n",
       "    </tr>\n",
       "    <tr>\n",
       "      <th>1</th>\n",
       "      <td>id_0</td>\n",
       "      <td>2009-05-10</td>\n",
       "      <td>0.266163</td>\n",
       "    </tr>\n",
       "    <tr>\n",
       "      <th>5</th>\n",
       "      <td>id_1</td>\n",
       "      <td>2009-05-10</td>\n",
       "      <td>0.374078</td>\n",
       "    </tr>\n",
       "    <tr>\n",
       "      <th>9</th>\n",
       "      <td>id_2</td>\n",
       "      <td>2009-05-10</td>\n",
       "      <td>0.339463</td>\n",
       "    </tr>\n",
       "    <tr>\n",
       "      <th>13</th>\n",
       "      <td>id_3</td>\n",
       "      <td>2009-05-10</td>\n",
       "      <td>0.309765</td>\n",
       "    </tr>\n",
       "    <tr>\n",
       "      <th>17</th>\n",
       "      <td>id_4</td>\n",
       "      <td>2009-05-10</td>\n",
       "      <td>0.354647</td>\n",
       "    </tr>\n",
       "    <tr>\n",
       "      <th>21</th>\n",
       "      <td>id_5</td>\n",
       "      <td>2009-05-10</td>\n",
       "      <td>0.307996</td>\n",
       "    </tr>\n",
       "    <tr>\n",
       "      <th>25</th>\n",
       "      <td>id_6</td>\n",
       "      <td>2009-05-10</td>\n",
       "      <td>0.366780</td>\n",
       "    </tr>\n",
       "    <tr>\n",
       "      <th>29</th>\n",
       "      <td>id_7</td>\n",
       "      <td>2009-05-10</td>\n",
       "      <td>0.218954</td>\n",
       "    </tr>\n",
       "    <tr>\n",
       "      <th>33</th>\n",
       "      <td>id_8</td>\n",
       "      <td>2009-05-10</td>\n",
       "      <td>0.289865</td>\n",
       "    </tr>\n",
       "    <tr>\n",
       "      <th>37</th>\n",
       "      <td>id_9</td>\n",
       "      <td>2009-05-10</td>\n",
       "      <td>0.278865</td>\n",
       "    </tr>\n",
       "    <tr>\n",
       "      <th>2</th>\n",
       "      <td>id_0</td>\n",
       "      <td>2009-05-17</td>\n",
       "      <td>0.150981</td>\n",
       "    </tr>\n",
       "    <tr>\n",
       "      <th>6</th>\n",
       "      <td>id_1</td>\n",
       "      <td>2009-05-17</td>\n",
       "      <td>0.208747</td>\n",
       "    </tr>\n",
       "    <tr>\n",
       "      <th>10</th>\n",
       "      <td>id_2</td>\n",
       "      <td>2009-05-17</td>\n",
       "      <td>0.182386</td>\n",
       "    </tr>\n",
       "    <tr>\n",
       "      <th>14</th>\n",
       "      <td>id_3</td>\n",
       "      <td>2009-05-17</td>\n",
       "      <td>0.295060</td>\n",
       "    </tr>\n",
       "    <tr>\n",
       "      <th>18</th>\n",
       "      <td>id_4</td>\n",
       "      <td>2009-05-17</td>\n",
       "      <td>0.236064</td>\n",
       "    </tr>\n",
       "    <tr>\n",
       "      <th>22</th>\n",
       "      <td>id_5</td>\n",
       "      <td>2009-05-17</td>\n",
       "      <td>0.204145</td>\n",
       "    </tr>\n",
       "    <tr>\n",
       "      <th>26</th>\n",
       "      <td>id_6</td>\n",
       "      <td>2009-05-17</td>\n",
       "      <td>0.294828</td>\n",
       "    </tr>\n",
       "    <tr>\n",
       "      <th>30</th>\n",
       "      <td>id_7</td>\n",
       "      <td>2009-05-17</td>\n",
       "      <td>0.180180</td>\n",
       "    </tr>\n",
       "    <tr>\n",
       "      <th>34</th>\n",
       "      <td>id_8</td>\n",
       "      <td>2009-05-17</td>\n",
       "      <td>0.164670</td>\n",
       "    </tr>\n",
       "    <tr>\n",
       "      <th>38</th>\n",
       "      <td>id_9</td>\n",
       "      <td>2009-05-17</td>\n",
       "      <td>0.257146</td>\n",
       "    </tr>\n",
       "    <tr>\n",
       "      <th>3</th>\n",
       "      <td>id_0</td>\n",
       "      <td>2009-05-24</td>\n",
       "      <td>0.264958</td>\n",
       "    </tr>\n",
       "    <tr>\n",
       "      <th>7</th>\n",
       "      <td>id_1</td>\n",
       "      <td>2009-05-24</td>\n",
       "      <td>0.209372</td>\n",
       "    </tr>\n",
       "    <tr>\n",
       "      <th>11</th>\n",
       "      <td>id_2</td>\n",
       "      <td>2009-05-24</td>\n",
       "      <td>0.212704</td>\n",
       "    </tr>\n",
       "    <tr>\n",
       "      <th>15</th>\n",
       "      <td>id_3</td>\n",
       "      <td>2009-05-24</td>\n",
       "      <td>0.254892</td>\n",
       "    </tr>\n",
       "    <tr>\n",
       "      <th>19</th>\n",
       "      <td>id_4</td>\n",
       "      <td>2009-05-24</td>\n",
       "      <td>0.354493</td>\n",
       "    </tr>\n",
       "    <tr>\n",
       "      <th>23</th>\n",
       "      <td>id_5</td>\n",
       "      <td>2009-05-24</td>\n",
       "      <td>0.187628</td>\n",
       "    </tr>\n",
       "    <tr>\n",
       "      <th>27</th>\n",
       "      <td>id_6</td>\n",
       "      <td>2009-05-24</td>\n",
       "      <td>0.345011</td>\n",
       "    </tr>\n",
       "    <tr>\n",
       "      <th>31</th>\n",
       "      <td>id_7</td>\n",
       "      <td>2009-05-24</td>\n",
       "      <td>0.339452</td>\n",
       "    </tr>\n",
       "    <tr>\n",
       "      <th>35</th>\n",
       "      <td>id_8</td>\n",
       "      <td>2009-05-24</td>\n",
       "      <td>0.221933</td>\n",
       "    </tr>\n",
       "    <tr>\n",
       "      <th>39</th>\n",
       "      <td>id_9</td>\n",
       "      <td>2009-05-24</td>\n",
       "      <td>0.473498</td>\n",
       "    </tr>\n",
       "  </tbody>\n",
       "</table>\n",
       "</div>"
      ],
      "text/plain": [
       "\n",
       "   unique_id         ds  XGBRegressor\n",
       "\u001b[1;36m0\u001b[0m       id_0 \u001b[1;36m2009\u001b[0m-\u001b[1;36m05\u001b[0m-\u001b[1;36m03\u001b[0m      \u001b[1;36m0.268972\u001b[0m\n",
       "\u001b[1;36m4\u001b[0m       id_1 \u001b[1;36m2009\u001b[0m-\u001b[1;36m05\u001b[0m-\u001b[1;36m03\u001b[0m      \u001b[1;36m0.198676\u001b[0m\n",
       "\u001b[1;36m8\u001b[0m       id_2 \u001b[1;36m2009\u001b[0m-\u001b[1;36m05\u001b[0m-\u001b[1;36m03\u001b[0m      \u001b[1;36m0.241915\u001b[0m\n",
       "\u001b[1;36m12\u001b[0m      id_3 \u001b[1;36m2009\u001b[0m-\u001b[1;36m05\u001b[0m-\u001b[1;36m03\u001b[0m      \u001b[1;36m0.278431\u001b[0m\n",
       "\u001b[1;36m16\u001b[0m      id_4 \u001b[1;36m2009\u001b[0m-\u001b[1;36m05\u001b[0m-\u001b[1;36m03\u001b[0m      \u001b[1;36m0.308225\u001b[0m\n",
       "\u001b[1;36m20\u001b[0m      id_5 \u001b[1;36m2009\u001b[0m-\u001b[1;36m05\u001b[0m-\u001b[1;36m03\u001b[0m      \u001b[1;36m0.205096\u001b[0m\n",
       "\u001b[1;36m24\u001b[0m      id_6 \u001b[1;36m2009\u001b[0m-\u001b[1;36m05\u001b[0m-\u001b[1;36m03\u001b[0m      \u001b[1;36m0.368526\u001b[0m\n",
       "\u001b[1;36m28\u001b[0m      id_7 \u001b[1;36m2009\u001b[0m-\u001b[1;36m05\u001b[0m-\u001b[1;36m03\u001b[0m      \u001b[1;36m0.292076\u001b[0m\n",
       "\u001b[1;36m32\u001b[0m      id_8 \u001b[1;36m2009\u001b[0m-\u001b[1;36m05\u001b[0m-\u001b[1;36m03\u001b[0m      \u001b[1;36m0.215874\u001b[0m\n",
       "\u001b[1;36m36\u001b[0m      id_9 \u001b[1;36m2009\u001b[0m-\u001b[1;36m05\u001b[0m-\u001b[1;36m03\u001b[0m      \u001b[1;36m0.243565\u001b[0m\n",
       "\u001b[1;36m1\u001b[0m       id_0 \u001b[1;36m2009\u001b[0m-\u001b[1;36m05\u001b[0m-\u001b[1;36m10\u001b[0m      \u001b[1;36m0.266163\u001b[0m\n",
       "\u001b[1;36m5\u001b[0m       id_1 \u001b[1;36m2009\u001b[0m-\u001b[1;36m05\u001b[0m-\u001b[1;36m10\u001b[0m      \u001b[1;36m0.374078\u001b[0m\n",
       "\u001b[1;36m9\u001b[0m       id_2 \u001b[1;36m2009\u001b[0m-\u001b[1;36m05\u001b[0m-\u001b[1;36m10\u001b[0m      \u001b[1;36m0.339463\u001b[0m\n",
       "\u001b[1;36m13\u001b[0m      id_3 \u001b[1;36m2009\u001b[0m-\u001b[1;36m05\u001b[0m-\u001b[1;36m10\u001b[0m      \u001b[1;36m0.309765\u001b[0m\n",
       "\u001b[1;36m17\u001b[0m      id_4 \u001b[1;36m2009\u001b[0m-\u001b[1;36m05\u001b[0m-\u001b[1;36m10\u001b[0m      \u001b[1;36m0.354647\u001b[0m\n",
       "\u001b[1;36m21\u001b[0m      id_5 \u001b[1;36m2009\u001b[0m-\u001b[1;36m05\u001b[0m-\u001b[1;36m10\u001b[0m      \u001b[1;36m0.307996\u001b[0m\n",
       "\u001b[1;36m25\u001b[0m      id_6 \u001b[1;36m2009\u001b[0m-\u001b[1;36m05\u001b[0m-\u001b[1;36m10\u001b[0m      \u001b[1;36m0.366780\u001b[0m\n",
       "\u001b[1;36m29\u001b[0m      id_7 \u001b[1;36m2009\u001b[0m-\u001b[1;36m05\u001b[0m-\u001b[1;36m10\u001b[0m      \u001b[1;36m0.218954\u001b[0m\n",
       "\u001b[1;36m33\u001b[0m      id_8 \u001b[1;36m2009\u001b[0m-\u001b[1;36m05\u001b[0m-\u001b[1;36m10\u001b[0m      \u001b[1;36m0.289865\u001b[0m\n",
       "\u001b[1;36m37\u001b[0m      id_9 \u001b[1;36m2009\u001b[0m-\u001b[1;36m05\u001b[0m-\u001b[1;36m10\u001b[0m      \u001b[1;36m0.278865\u001b[0m\n",
       "\u001b[1;36m2\u001b[0m       id_0 \u001b[1;36m2009\u001b[0m-\u001b[1;36m05\u001b[0m-\u001b[1;36m17\u001b[0m      \u001b[1;36m0.150981\u001b[0m\n",
       "\u001b[1;36m6\u001b[0m       id_1 \u001b[1;36m2009\u001b[0m-\u001b[1;36m05\u001b[0m-\u001b[1;36m17\u001b[0m      \u001b[1;36m0.208747\u001b[0m\n",
       "\u001b[1;36m10\u001b[0m      id_2 \u001b[1;36m2009\u001b[0m-\u001b[1;36m05\u001b[0m-\u001b[1;36m17\u001b[0m      \u001b[1;36m0.182386\u001b[0m\n",
       "\u001b[1;36m14\u001b[0m      id_3 \u001b[1;36m2009\u001b[0m-\u001b[1;36m05\u001b[0m-\u001b[1;36m17\u001b[0m      \u001b[1;36m0.295060\u001b[0m\n",
       "\u001b[1;36m18\u001b[0m      id_4 \u001b[1;36m2009\u001b[0m-\u001b[1;36m05\u001b[0m-\u001b[1;36m17\u001b[0m      \u001b[1;36m0.236064\u001b[0m\n",
       "\u001b[1;36m22\u001b[0m      id_5 \u001b[1;36m2009\u001b[0m-\u001b[1;36m05\u001b[0m-\u001b[1;36m17\u001b[0m      \u001b[1;36m0.204145\u001b[0m\n",
       "\u001b[1;36m26\u001b[0m      id_6 \u001b[1;36m2009\u001b[0m-\u001b[1;36m05\u001b[0m-\u001b[1;36m17\u001b[0m      \u001b[1;36m0.294828\u001b[0m\n",
       "\u001b[1;36m30\u001b[0m      id_7 \u001b[1;36m2009\u001b[0m-\u001b[1;36m05\u001b[0m-\u001b[1;36m17\u001b[0m      \u001b[1;36m0.180180\u001b[0m\n",
       "\u001b[1;36m34\u001b[0m      id_8 \u001b[1;36m2009\u001b[0m-\u001b[1;36m05\u001b[0m-\u001b[1;36m17\u001b[0m      \u001b[1;36m0.164670\u001b[0m\n",
       "\u001b[1;36m38\u001b[0m      id_9 \u001b[1;36m2009\u001b[0m-\u001b[1;36m05\u001b[0m-\u001b[1;36m17\u001b[0m      \u001b[1;36m0.257146\u001b[0m\n",
       "\u001b[1;36m3\u001b[0m       id_0 \u001b[1;36m2009\u001b[0m-\u001b[1;36m05\u001b[0m-\u001b[1;36m24\u001b[0m      \u001b[1;36m0.264958\u001b[0m\n",
       "\u001b[1;36m7\u001b[0m       id_1 \u001b[1;36m2009\u001b[0m-\u001b[1;36m05\u001b[0m-\u001b[1;36m24\u001b[0m      \u001b[1;36m0.209372\u001b[0m\n",
       "\u001b[1;36m11\u001b[0m      id_2 \u001b[1;36m2009\u001b[0m-\u001b[1;36m05\u001b[0m-\u001b[1;36m24\u001b[0m      \u001b[1;36m0.212704\u001b[0m\n",
       "\u001b[1;36m15\u001b[0m      id_3 \u001b[1;36m2009\u001b[0m-\u001b[1;36m05\u001b[0m-\u001b[1;36m24\u001b[0m      \u001b[1;36m0.254892\u001b[0m\n",
       "\u001b[1;36m19\u001b[0m      id_4 \u001b[1;36m2009\u001b[0m-\u001b[1;36m05\u001b[0m-\u001b[1;36m24\u001b[0m      \u001b[1;36m0.354493\u001b[0m\n",
       "\u001b[1;36m23\u001b[0m      id_5 \u001b[1;36m2009\u001b[0m-\u001b[1;36m05\u001b[0m-\u001b[1;36m24\u001b[0m      \u001b[1;36m0.187628\u001b[0m\n",
       "\u001b[1;36m27\u001b[0m      id_6 \u001b[1;36m2009\u001b[0m-\u001b[1;36m05\u001b[0m-\u001b[1;36m24\u001b[0m      \u001b[1;36m0.345011\u001b[0m\n",
       "\u001b[1;36m31\u001b[0m      id_7 \u001b[1;36m2009\u001b[0m-\u001b[1;36m05\u001b[0m-\u001b[1;36m24\u001b[0m      \u001b[1;36m0.339452\u001b[0m\n",
       "\u001b[1;36m35\u001b[0m      id_8 \u001b[1;36m2009\u001b[0m-\u001b[1;36m05\u001b[0m-\u001b[1;36m24\u001b[0m      \u001b[1;36m0.221933\u001b[0m\n",
       "\u001b[1;36m39\u001b[0m      id_9 \u001b[1;36m2009\u001b[0m-\u001b[1;36m05\u001b[0m-\u001b[1;36m24\u001b[0m      \u001b[1;36m0.473498\u001b[0m"
      ]
     },
     "execution_count": 47,
     "metadata": {},
     "output_type": "execute_result"
    }
   ],
   "source": [
    "pred = model.predict(h=horizon, X_df=future_data)\n",
    "pred = pred.sort_values(by=[\"ds\", \"unique_id\"])\n",
    "pred"
   ]
  },
  {
   "cell_type": "code",
   "execution_count": 48,
   "id": "6f85c485",
   "metadata": {},
   "outputs": [
    {
     "data": {
      "text/html": [
       "<pre style=\"white-space:pre;overflow-x:auto;line-height:normal;font-family:Menlo,'DejaVu Sans Mono',consolas,'Courier New',monospace\"></pre>\n"
      ],
      "text/plain": []
     },
     "metadata": {},
     "output_type": "display_data"
    },
    {
     "data": {
      "text/plain": [
       "\n",
       "\u001b[1;35marray\u001b[0m\u001b[1m(\u001b[0m\u001b[1m[\u001b[0m\u001b[1;36m0.03199649\u001b[0m, \u001b[1;36m0.05210195\u001b[0m, \u001b[1;36m0\u001b[0m.        , \u001b[1;36m0.02663604\u001b[0m, \u001b[1;36m0.05931845\u001b[0m,\n",
       "       \u001b[1;36m0.06918723\u001b[0m, \u001b[1;36m0.07351093\u001b[0m, \u001b[1;36m0.07420854\u001b[0m, \u001b[1;36m0.07224291\u001b[0m, \u001b[1;36m0.0691741\u001b[0m ,\n",
       "       \u001b[1;36m0.07256066\u001b[0m, \u001b[1;36m0.0802261\u001b[0m , \u001b[1;36m0.07867224\u001b[0m, \u001b[1;36m0.07894932\u001b[0m, \u001b[1;36m0.06844364\u001b[0m,\n",
       "       \u001b[1;36m0.09277142\u001b[0m\u001b[1m]\u001b[0m, \u001b[33mdtype\u001b[0m=\u001b[35mfloat32\u001b[0m\u001b[1m)\u001b[0m"
      ]
     },
     "execution_count": 48,
     "metadata": {},
     "output_type": "execute_result"
    }
   ],
   "source": [
    "model.models_['XGBRegressor'].feature_importances_"
   ]
  },
  {
   "cell_type": "code",
   "execution_count": 49,
   "id": "dc19676c",
   "metadata": {},
   "outputs": [
    {
     "data": {
      "text/html": [
       "<pre style=\"white-space:pre;overflow-x:auto;line-height:normal;font-family:Menlo,'DejaVu Sans Mono',consolas,'Courier New',monospace\"></pre>\n"
      ],
      "text/plain": []
     },
     "metadata": {},
     "output_type": "display_data"
    },
    {
     "data": {
      "text/plain": [
       "\u001b[1m<\u001b[0m\u001b[1;95mAxes:\u001b[0m\u001b[39m \u001b[0m\u001b[33mtitle\u001b[0m\u001b[39m=\u001b[0m\u001b[1;39m{\u001b[0m\u001b[32m'center'\u001b[0m\u001b[39m: \u001b[0m\u001b[32m'Feature Importance XGBRegressor'\u001b[0m\u001b[1;39m}\u001b[0m\u001b[1m>\u001b[0m"
      ]
     },
     "execution_count": 49,
     "metadata": {},
     "output_type": "execute_result"
    },
    {
     "data": {
      "text/html": [
       "<pre style=\"white-space:pre;overflow-x:auto;line-height:normal;font-family:Menlo,'DejaVu Sans Mono',consolas,'Courier New',monospace\"></pre>\n"
      ],
      "text/plain": []
     },
     "metadata": {},
     "output_type": "display_data"
    },
    {
     "data": {
      "image/png": "[encoded data removed]",
      "text/plain": [
       "\u001b[1m<\u001b[0m\u001b[1;95mFigure\u001b[0m\u001b[39m size 64\u001b[0m\u001b[1;36m0x480\u001b[0m\u001b[39m with \u001b[0m\u001b[1;36m1\u001b[0m\u001b[39m Axes\u001b[0m\u001b[1m>\u001b[0m"
      ]
     },
     "metadata": {},
     "output_type": "display_data"
    }
   ],
   "source": [
    "pd.Series(model.models_['XGBRegressor'].feature_importances_, index=model.ts.features_order_).sort_values(ascending=False).plot.bar(title='Feature Importance XGBRegressor')"
   ]
  },
  {
   "cell_type": "code",
   "execution_count": null,
   "id": "c72bbfe9",
   "metadata": {},
   "outputs": [],
   "source": []
  },
  {
   "cell_type": "code",
   "execution_count": null,
   "id": "5b0e709c",
   "metadata": {},
   "outputs": [],
   "source": []
  }
 ],
 "metadata": {
  "kernelspec": {
   "display_name": "Kedro (kedro_sales_forecast)",
   "language": "python",
   "name": "kedro_kedro_sales_forecast"
  },
  "language_info": {
   "codemirror_mode": {
    "name": "ipython",
    "version": 3
   },
   "file_extension": ".py",
   "mimetype": "text/x-python",
   "name": "python",
   "nbconvert_exporter": "python",
   "pygments_lexer": "ipython3",
   "version": "3.9.18"
  }
 },
 "nbformat": 4,
 "nbformat_minor": 5
}
