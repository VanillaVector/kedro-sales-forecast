{
 "cells": [
  {
   "cell_type": "code",
   "execution_count": 1,
   "id": "0a0cede0",
   "metadata": {},
   "outputs": [],
   "source": [
    "import pandas as pd\n",
    "\n",
    "from kedro_sales_forecast.pipelines.train.nodes import split_data, train_model, evaluate_model\n",
    "from kedro_sales_forecast.pipelines.predict.nodes import make_prediction"
   ]
  },
  {
   "cell_type": "code",
   "execution_count": 2,
   "id": "b6939e00",
   "metadata": {},
   "outputs": [
    {
     "data": {
      "text/html": [
       "<pre style=\"white-space:pre;overflow-x:auto;line-height:normal;font-family:Menlo,'DejaVu Sans Mono',consolas,'Courier New',monospace\"></pre>\n"
      ],
      "text/plain": []
     },
     "metadata": {},
     "output_type": "display_data"
    },
    {
     "data": {
      "text/html": [
       "<div>\n",
       "<style scoped>\n",
       "    .dataframe tbody tr th:only-of-type {\n",
       "        vertical-align: middle;\n",
       "    }\n",
       "\n",
       "    .dataframe tbody tr th {\n",
       "        vertical-align: top;\n",
       "    }\n",
       "\n",
       "    .dataframe thead th {\n",
       "        text-align: right;\n",
       "    }\n",
       "</style>\n",
       "<table border=\"1\" class=\"dataframe\">\n",
       "  <thead>\n",
       "    <tr style=\"text-align: right;\">\n",
       "      <th></th>\n",
       "      <th>unique_id</th>\n",
       "      <th>ds</th>\n",
       "      <th>y</th>\n",
       "      <th>Size</th>\n",
       "      <th>Type_A</th>\n",
       "      <th>Type_B</th>\n",
       "      <th>IsHoliday</th>\n",
       "      <th>Temperature</th>\n",
       "      <th>Fuel_Price</th>\n",
       "      <th>CPI</th>\n",
       "      <th>Unemployment</th>\n",
       "    </tr>\n",
       "  </thead>\n",
       "  <tbody>\n",
       "    <tr>\n",
       "      <th>0</th>\n",
       "      <td>id_1</td>\n",
       "      <td>2007-09-23</td>\n",
       "      <td>0.107754</td>\n",
       "      <td>90</td>\n",
       "      <td>0</td>\n",
       "      <td>1</td>\n",
       "      <td>0</td>\n",
       "      <td>35.941204</td>\n",
       "      <td>2.406140</td>\n",
       "      <td>7.010738</td>\n",
       "      <td>4.392684</td>\n",
       "    </tr>\n",
       "    <tr>\n",
       "      <th>1</th>\n",
       "      <td>id_1</td>\n",
       "      <td>2007-09-30</td>\n",
       "      <td>0.473685</td>\n",
       "      <td>90</td>\n",
       "      <td>0</td>\n",
       "      <td>1</td>\n",
       "      <td>0</td>\n",
       "      <td>43.280131</td>\n",
       "      <td>2.202386</td>\n",
       "      <td>9.655562</td>\n",
       "      <td>3.992608</td>\n",
       "    </tr>\n",
       "    <tr>\n",
       "      <th>2</th>\n",
       "      <td>id_1</td>\n",
       "      <td>2007-10-07</td>\n",
       "      <td>0.365428</td>\n",
       "      <td>90</td>\n",
       "      <td>0</td>\n",
       "      <td>1</td>\n",
       "      <td>0</td>\n",
       "      <td>38.400777</td>\n",
       "      <td>3.493784</td>\n",
       "      <td>7.717524</td>\n",
       "      <td>4.424695</td>\n",
       "    </tr>\n",
       "    <tr>\n",
       "      <th>3</th>\n",
       "      <td>id_1</td>\n",
       "      <td>2007-10-14</td>\n",
       "      <td>0.126971</td>\n",
       "      <td>90</td>\n",
       "      <td>0</td>\n",
       "      <td>1</td>\n",
       "      <td>0</td>\n",
       "      <td>40.772740</td>\n",
       "      <td>2.917491</td>\n",
       "      <td>7.849567</td>\n",
       "      <td>5.304473</td>\n",
       "    </tr>\n",
       "    <tr>\n",
       "      <th>4</th>\n",
       "      <td>id_1</td>\n",
       "      <td>2007-10-21</td>\n",
       "      <td>0.106656</td>\n",
       "      <td>90</td>\n",
       "      <td>0</td>\n",
       "      <td>1</td>\n",
       "      <td>0</td>\n",
       "      <td>39.256674</td>\n",
       "      <td>2.230744</td>\n",
       "      <td>4.252065</td>\n",
       "      <td>8.740808</td>\n",
       "    </tr>\n",
       "    <tr>\n",
       "      <th>...</th>\n",
       "      <td>...</td>\n",
       "      <td>...</td>\n",
       "      <td>...</td>\n",
       "      <td>...</td>\n",
       "      <td>...</td>\n",
       "      <td>...</td>\n",
       "      <td>...</td>\n",
       "      <td>...</td>\n",
       "      <td>...</td>\n",
       "      <td>...</td>\n",
       "      <td>...</td>\n",
       "    </tr>\n",
       "    <tr>\n",
       "      <th>135</th>\n",
       "      <td>id_8</td>\n",
       "      <td>2009-05-17</td>\n",
       "      <td>0.177690</td>\n",
       "      <td>92</td>\n",
       "      <td>0</td>\n",
       "      <td>1</td>\n",
       "      <td>0</td>\n",
       "      <td>22.363804</td>\n",
       "      <td>2.393108</td>\n",
       "      <td>7.961581</td>\n",
       "      <td>6.360911</td>\n",
       "    </tr>\n",
       "    <tr>\n",
       "      <th>136</th>\n",
       "      <td>id_1</td>\n",
       "      <td>2009-05-24</td>\n",
       "      <td>0.336024</td>\n",
       "      <td>90</td>\n",
       "      <td>0</td>\n",
       "      <td>1</td>\n",
       "      <td>0</td>\n",
       "      <td>33.991867</td>\n",
       "      <td>2.652832</td>\n",
       "      <td>3.253850</td>\n",
       "      <td>3.112671</td>\n",
       "    </tr>\n",
       "    <tr>\n",
       "      <th>137</th>\n",
       "      <td>id_8</td>\n",
       "      <td>2009-05-24</td>\n",
       "      <td>0.021931</td>\n",
       "      <td>92</td>\n",
       "      <td>0</td>\n",
       "      <td>1</td>\n",
       "      <td>0</td>\n",
       "      <td>33.991867</td>\n",
       "      <td>2.652832</td>\n",
       "      <td>3.253850</td>\n",
       "      <td>3.112671</td>\n",
       "    </tr>\n",
       "    <tr>\n",
       "      <th>138</th>\n",
       "      <td>id_1</td>\n",
       "      <td>2009-05-31</td>\n",
       "      <td>0.122684</td>\n",
       "      <td>90</td>\n",
       "      <td>0</td>\n",
       "      <td>1</td>\n",
       "      <td>0</td>\n",
       "      <td>34.640794</td>\n",
       "      <td>2.564955</td>\n",
       "      <td>5.316975</td>\n",
       "      <td>3.989611</td>\n",
       "    </tr>\n",
       "    <tr>\n",
       "      <th>139</th>\n",
       "      <td>id_8</td>\n",
       "      <td>2009-05-31</td>\n",
       "      <td>0.092102</td>\n",
       "      <td>92</td>\n",
       "      <td>0</td>\n",
       "      <td>1</td>\n",
       "      <td>0</td>\n",
       "      <td>34.640794</td>\n",
       "      <td>2.564955</td>\n",
       "      <td>5.316975</td>\n",
       "      <td>3.989611</td>\n",
       "    </tr>\n",
       "  </tbody>\n",
       "</table>\n",
       "<p>140 rows × 11 columns</p>\n",
       "</div>"
      ],
      "text/plain": [
       "\n",
       "    unique_id         ds         y  Size  Type_A  Type_B  IsHoliday  \\\n",
       "\u001b[1;36m0\u001b[0m        id_1 \u001b[1;36m2007\u001b[0m-\u001b[1;36m09\u001b[0m-\u001b[1;36m23\u001b[0m  \u001b[1;36m0.107754\u001b[0m    \u001b[1;36m90\u001b[0m       \u001b[1;36m0\u001b[0m       \u001b[1;36m1\u001b[0m          \u001b[1;36m0\u001b[0m   \n",
       "\u001b[1;36m1\u001b[0m        id_1 \u001b[1;36m2007\u001b[0m-\u001b[1;36m09\u001b[0m-\u001b[1;36m30\u001b[0m  \u001b[1;36m0.473685\u001b[0m    \u001b[1;36m90\u001b[0m       \u001b[1;36m0\u001b[0m       \u001b[1;36m1\u001b[0m          \u001b[1;36m0\u001b[0m   \n",
       "\u001b[1;36m2\u001b[0m        id_1 \u001b[1;36m2007\u001b[0m-\u001b[1;36m10\u001b[0m-\u001b[1;36m07\u001b[0m  \u001b[1;36m0.365428\u001b[0m    \u001b[1;36m90\u001b[0m       \u001b[1;36m0\u001b[0m       \u001b[1;36m1\u001b[0m          \u001b[1;36m0\u001b[0m   \n",
       "\u001b[1;36m3\u001b[0m        id_1 \u001b[1;36m2007\u001b[0m-\u001b[1;36m10\u001b[0m-\u001b[1;36m14\u001b[0m  \u001b[1;36m0.126971\u001b[0m    \u001b[1;36m90\u001b[0m       \u001b[1;36m0\u001b[0m       \u001b[1;36m1\u001b[0m          \u001b[1;36m0\u001b[0m   \n",
       "\u001b[1;36m4\u001b[0m        id_1 \u001b[1;36m2007\u001b[0m-\u001b[1;36m10\u001b[0m-\u001b[1;36m21\u001b[0m  \u001b[1;36m0.106656\u001b[0m    \u001b[1;36m90\u001b[0m       \u001b[1;36m0\u001b[0m       \u001b[1;36m1\u001b[0m          \u001b[1;36m0\u001b[0m   \n",
       "..        \u001b[33m...\u001b[0m        \u001b[33m...\u001b[0m       \u001b[33m...\u001b[0m   \u001b[33m...\u001b[0m     \u001b[33m...\u001b[0m     \u001b[33m...\u001b[0m        \u001b[33m...\u001b[0m   \n",
       "\u001b[1;36m135\u001b[0m      id_8 \u001b[1;36m2009\u001b[0m-\u001b[1;36m05\u001b[0m-\u001b[1;36m17\u001b[0m  \u001b[1;36m0.177690\u001b[0m    \u001b[1;36m92\u001b[0m       \u001b[1;36m0\u001b[0m       \u001b[1;36m1\u001b[0m          \u001b[1;36m0\u001b[0m   \n",
       "\u001b[1;36m136\u001b[0m      id_1 \u001b[1;36m2009\u001b[0m-\u001b[1;36m05\u001b[0m-\u001b[1;36m24\u001b[0m  \u001b[1;36m0.336024\u001b[0m    \u001b[1;36m90\u001b[0m       \u001b[1;36m0\u001b[0m       \u001b[1;36m1\u001b[0m          \u001b[1;36m0\u001b[0m   \n",
       "\u001b[1;36m137\u001b[0m      id_8 \u001b[1;36m2009\u001b[0m-\u001b[1;36m05\u001b[0m-\u001b[1;36m24\u001b[0m  \u001b[1;36m0.021931\u001b[0m    \u001b[1;36m92\u001b[0m       \u001b[1;36m0\u001b[0m       \u001b[1;36m1\u001b[0m          \u001b[1;36m0\u001b[0m   \n",
       "\u001b[1;36m138\u001b[0m      id_1 \u001b[1;36m2009\u001b[0m-\u001b[1;36m05\u001b[0m-\u001b[1;36m31\u001b[0m  \u001b[1;36m0.122684\u001b[0m    \u001b[1;36m90\u001b[0m       \u001b[1;36m0\u001b[0m       \u001b[1;36m1\u001b[0m          \u001b[1;36m0\u001b[0m   \n",
       "\u001b[1;36m139\u001b[0m      id_8 \u001b[1;36m2009\u001b[0m-\u001b[1;36m05\u001b[0m-\u001b[1;36m31\u001b[0m  \u001b[1;36m0.092102\u001b[0m    \u001b[1;36m92\u001b[0m       \u001b[1;36m0\u001b[0m       \u001b[1;36m1\u001b[0m          \u001b[1;36m0\u001b[0m   \n",
       "\n",
       "     Temperature  Fuel_Price       CPI  Unemployment  \n",
       "\u001b[1;36m0\u001b[0m      \u001b[1;36m35.941204\u001b[0m    \u001b[1;36m2.406140\u001b[0m  \u001b[1;36m7.010738\u001b[0m      \u001b[1;36m4.392684\u001b[0m  \n",
       "\u001b[1;36m1\u001b[0m      \u001b[1;36m43.280131\u001b[0m    \u001b[1;36m2.202386\u001b[0m  \u001b[1;36m9.655562\u001b[0m      \u001b[1;36m3.992608\u001b[0m  \n",
       "\u001b[1;36m2\u001b[0m      \u001b[1;36m38.400777\u001b[0m    \u001b[1;36m3.493784\u001b[0m  \u001b[1;36m7.717524\u001b[0m      \u001b[1;36m4.424695\u001b[0m  \n",
       "\u001b[1;36m3\u001b[0m      \u001b[1;36m40.772740\u001b[0m    \u001b[1;36m2.917491\u001b[0m  \u001b[1;36m7.849567\u001b[0m      \u001b[1;36m5.304473\u001b[0m  \n",
       "\u001b[1;36m4\u001b[0m      \u001b[1;36m39.256674\u001b[0m    \u001b[1;36m2.230744\u001b[0m  \u001b[1;36m4.252065\u001b[0m      \u001b[1;36m8.740808\u001b[0m  \n",
       "..           \u001b[33m...\u001b[0m         \u001b[33m...\u001b[0m       \u001b[33m...\u001b[0m           \u001b[33m...\u001b[0m  \n",
       "\u001b[1;36m135\u001b[0m    \u001b[1;36m22.363804\u001b[0m    \u001b[1;36m2.393108\u001b[0m  \u001b[1;36m7.961581\u001b[0m      \u001b[1;36m6.360911\u001b[0m  \n",
       "\u001b[1;36m136\u001b[0m    \u001b[1;36m33.991867\u001b[0m    \u001b[1;36m2.652832\u001b[0m  \u001b[1;36m3.253850\u001b[0m      \u001b[1;36m3.112671\u001b[0m  \n",
       "\u001b[1;36m137\u001b[0m    \u001b[1;36m33.991867\u001b[0m    \u001b[1;36m2.652832\u001b[0m  \u001b[1;36m3.253850\u001b[0m      \u001b[1;36m3.112671\u001b[0m  \n",
       "\u001b[1;36m138\u001b[0m    \u001b[1;36m34.640794\u001b[0m    \u001b[1;36m2.564955\u001b[0m  \u001b[1;36m5.316975\u001b[0m      \u001b[1;36m3.989611\u001b[0m  \n",
       "\u001b[1;36m139\u001b[0m    \u001b[1;36m34.640794\u001b[0m    \u001b[1;36m2.564955\u001b[0m  \u001b[1;36m5.316975\u001b[0m      \u001b[1;36m3.989611\u001b[0m  \n",
       "\n",
       "\u001b[1m[\u001b[0m\u001b[1;36m140\u001b[0m rows x \u001b[1;36m11\u001b[0m columns\u001b[1m]\u001b[0m"
      ]
     },
     "execution_count": 2,
     "metadata": {},
     "output_type": "execute_result"
    }
   ],
   "source": [
    "# dummy_data = pd.DataFrame(catalog.load(\"store_sales_weekly\"))\n",
    "dummy_data = pd.read_csv('../tests/data/test_data.csv', parse_dates=['ds'])\n",
    "dummy_data"
   ]
  },
  {
   "cell_type": "code",
   "execution_count": 3,
   "id": "c8eab143",
   "metadata": {},
   "outputs": [
    {
     "data": {
      "text/html": [
       "<pre style=\"white-space:pre;overflow-x:auto;line-height:normal;font-family:Menlo,'DejaVu Sans Mono',consolas,'Courier New',monospace\"><span style=\"color: #800000; text-decoration-color: #800000\">╭─────────────────────────────── </span><span style=\"color: #800000; text-decoration-color: #800000; font-weight: bold\">Traceback </span><span style=\"color: #bf7f7f; text-decoration-color: #bf7f7f; font-weight: bold\">(most recent call last)</span><span style=\"color: #800000; text-decoration-color: #800000\"> ────────────────────────────────╮</span>\n",
       "<span style=\"color: #800000; text-decoration-color: #800000\">│</span> in <span style=\"color: #00ff00; text-decoration-color: #00ff00\">&lt;module&gt;</span>:<span style=\"color: #0000ff; text-decoration-color: #0000ff\">1</span>                                                                                    <span style=\"color: #800000; text-decoration-color: #800000\">│</span>\n",
       "<span style=\"color: #800000; text-decoration-color: #800000\">│</span>                                                                                                  <span style=\"color: #800000; text-decoration-color: #800000\">│</span>\n",
       "<span style=\"color: #800000; text-decoration-color: #800000\">│</span> <span style=\"color: #800000; text-decoration-color: #800000\">❱ </span>1 dummy_parameters = catalog.load(<span style=\"color: #808000; text-decoration-color: #808000\">\"params:model_options\"</span>)                                      <span style=\"color: #800000; text-decoration-color: #800000\">│</span>\n",
       "<span style=\"color: #800000; text-decoration-color: #800000\">│</span>   <span style=\"color: #7f7f7f; text-decoration-color: #7f7f7f\">2 </span>dummy_parameters                                                                             <span style=\"color: #800000; text-decoration-color: #800000\">│</span>\n",
       "<span style=\"color: #800000; text-decoration-color: #800000\">│</span>   <span style=\"color: #7f7f7f; text-decoration-color: #7f7f7f\">3 </span>                                                                                             <span style=\"color: #800000; text-decoration-color: #800000\">│</span>\n",
       "<span style=\"color: #800000; text-decoration-color: #800000\">╰──────────────────────────────────────────────────────────────────────────────────────────────────╯</span>\n",
       "<span style=\"color: #ff0000; text-decoration-color: #ff0000; font-weight: bold\">NameError: </span>name <span style=\"color: #008000; text-decoration-color: #008000\">'catalog'</span> is not defined\n",
       "</pre>\n"
      ],
      "text/plain": [
       "\u001b[31m╭─\u001b[0m\u001b[31m──────────────────────────────\u001b[0m\u001b[31m \u001b[0m\u001b[1;31mTraceback \u001b[0m\u001b[1;2;31m(most recent call last)\u001b[0m\u001b[31m \u001b[0m\u001b[31m───────────────────────────────\u001b[0m\u001b[31m─╮\u001b[0m\n",
       "\u001b[31m│\u001b[0m in \u001b[92m<module>\u001b[0m:\u001b[94m1\u001b[0m                                                                                    \u001b[31m│\u001b[0m\n",
       "\u001b[31m│\u001b[0m                                                                                                  \u001b[31m│\u001b[0m\n",
       "\u001b[31m│\u001b[0m \u001b[31m❱ \u001b[0m1 dummy_parameters = catalog.load(\u001b[33m\"\u001b[0m\u001b[33mparams:model_options\u001b[0m\u001b[33m\"\u001b[0m)                                      \u001b[31m│\u001b[0m\n",
       "\u001b[31m│\u001b[0m   \u001b[2m2 \u001b[0mdummy_parameters                                                                             \u001b[31m│\u001b[0m\n",
       "\u001b[31m│\u001b[0m   \u001b[2m3 \u001b[0m                                                                                             \u001b[31m│\u001b[0m\n",
       "\u001b[31m╰──────────────────────────────────────────────────────────────────────────────────────────────────╯\u001b[0m\n",
       "\u001b[1;91mNameError: \u001b[0mname \u001b[32m'catalog'\u001b[0m is not defined\n"
      ]
     },
     "metadata": {},
     "output_type": "display_data"
    }
   ],
   "source": [
    "dummy_parameters = catalog.load(\"params:model_options\")\n",
    "dummy_parameters"
   ]
  },
  {
   "cell_type": "code",
   "execution_count": null,
   "id": "040ce12d",
   "metadata": {},
   "outputs": [],
   "source": [
    "train_data, test_data = split_data(dummy_data, dummy_parameters)"
   ]
  },
  {
   "cell_type": "code",
   "execution_count": 5,
   "id": "ee4b08a3",
   "metadata": {},
   "outputs": [
    {
     "name": "stdout",
     "output_type": "stream",
     "text": [
      "[LightGBM] [Info] Auto-choosing col-wise multi-threading, the overhead of testing was 0.000220 seconds.\n",
      "You can set `force_col_wise=true` to remove the overhead.\n",
      "[LightGBM] [Info] Total Bins 620\n",
      "[LightGBM] [Info] Number of data points in the train set: 116, number of used features: 19\n",
      "[LightGBM] [Info] Start training from score 0.257256\n",
      "[LightGBM] [Warning] No further splits with positive gain, best gain: -inf\n",
      "[LightGBM] [Warning] No further splits with positive gain, best gain: -inf\n",
      "[LightGBM] [Warning] No further splits with positive gain, best gain: -inf\n",
      "[LightGBM] [Warning] No further splits with positive gain, best gain: -inf\n",
      "[LightGBM] [Warning] No further splits with positive gain, best gain: -inf\n",
      "[LightGBM] [Warning] No further splits with positive gain, best gain: -inf\n",
      "[LightGBM] [Warning] No further splits with positive gain, best gain: -inf\n",
      "[LightGBM] [Warning] No further splits with positive gain, best gain: -inf\n",
      "[LightGBM] [Warning] No further splits with positive gain, best gain: -inf\n",
      "[LightGBM] [Warning] No further splits with positive gain, best gain: -inf\n",
      "[LightGBM] [Warning] No further splits with positive gain, best gain: -inf\n",
      "[LightGBM] [Warning] No further splits with positive gain, best gain: -inf\n",
      "[LightGBM] [Warning] No further splits with positive gain, best gain: -inf\n",
      "[LightGBM] [Warning] No further splits with positive gain, best gain: -inf\n",
      "[LightGBM] [Warning] No further splits with positive gain, best gain: -inf\n",
      "[LightGBM] [Warning] No further splits with positive gain, best gain: -inf\n",
      "[LightGBM] [Warning] No further splits with positive gain, best gain: -inf\n",
      "[LightGBM] [Warning] No further splits with positive gain, best gain: -inf\n",
      "[LightGBM] [Warning] No further splits with positive gain, best gain: -inf\n",
      "[LightGBM] [Warning] No further splits with positive gain, best gain: -inf\n",
      "[LightGBM] [Warning] No further splits with positive gain, best gain: -inf\n",
      "[LightGBM] [Warning] No further splits with positive gain, best gain: -inf\n",
      "[LightGBM] [Warning] No further splits with positive gain, best gain: -inf\n",
      "[LightGBM] [Warning] No further splits with positive gain, best gain: -inf\n",
      "[LightGBM] [Warning] No further splits with positive gain, best gain: -inf\n",
      "[LightGBM] [Warning] No further splits with positive gain, best gain: -inf\n",
      "[LightGBM] [Warning] No further splits with positive gain, best gain: -inf\n",
      "[LightGBM] [Warning] No further splits with positive gain, best gain: -inf\n",
      "[LightGBM] [Warning] No further splits with positive gain, best gain: -inf\n",
      "[LightGBM] [Warning] No further splits with positive gain, best gain: -inf\n",
      "[LightGBM] [Warning] No further splits with positive gain, best gain: -inf\n",
      "[LightGBM] [Warning] No further splits with positive gain, best gain: -inf\n",
      "[LightGBM] [Warning] No further splits with positive gain, best gain: -inf\n",
      "[LightGBM] [Warning] No further splits with positive gain, best gain: -inf\n",
      "[LightGBM] [Warning] No further splits with positive gain, best gain: -inf\n",
      "[LightGBM] [Warning] No further splits with positive gain, best gain: -inf\n",
      "[LightGBM] [Warning] No further splits with positive gain, best gain: -inf\n",
      "[LightGBM] [Warning] No further splits with positive gain, best gain: -inf\n",
      "[LightGBM] [Warning] No further splits with positive gain, best gain: -inf\n",
      "[LightGBM] [Warning] No further splits with positive gain, best gain: -inf\n",
      "[LightGBM] [Warning] No further splits with positive gain, best gain: -inf\n",
      "[LightGBM] [Warning] No further splits with positive gain, best gain: -inf\n",
      "[LightGBM] [Warning] No further splits with positive gain, best gain: -inf\n",
      "[LightGBM] [Warning] No further splits with positive gain, best gain: -inf\n",
      "[LightGBM] [Warning] No further splits with positive gain, best gain: -inf\n",
      "[LightGBM] [Warning] No further splits with positive gain, best gain: -inf\n",
      "[LightGBM] [Warning] No further splits with positive gain, best gain: -inf\n",
      "[LightGBM] [Warning] No further splits with positive gain, best gain: -inf\n",
      "[LightGBM] [Warning] No further splits with positive gain, best gain: -inf\n",
      "[LightGBM] [Warning] No further splits with positive gain, best gain: -inf\n",
      "[LightGBM] [Warning] No further splits with positive gain, best gain: -inf\n",
      "[LightGBM] [Warning] No further splits with positive gain, best gain: -inf\n",
      "[LightGBM] [Warning] No further splits with positive gain, best gain: -inf\n",
      "[LightGBM] [Warning] No further splits with positive gain, best gain: -inf\n",
      "[LightGBM] [Warning] No further splits with positive gain, best gain: -inf\n",
      "[LightGBM] [Warning] No further splits with positive gain, best gain: -inf\n",
      "[LightGBM] [Warning] No further splits with positive gain, best gain: -inf\n",
      "[LightGBM] [Warning] No further splits with positive gain, best gain: -inf\n",
      "[LightGBM] [Warning] No further splits with positive gain, best gain: -inf\n",
      "[LightGBM] [Warning] No further splits with positive gain, best gain: -inf\n",
      "[LightGBM] [Warning] No further splits with positive gain, best gain: -inf\n",
      "[LightGBM] [Warning] No further splits with positive gain, best gain: -inf\n",
      "[LightGBM] [Warning] No further splits with positive gain, best gain: -inf\n",
      "[LightGBM] [Warning] No further splits with positive gain, best gain: -inf\n",
      "[LightGBM] [Warning] No further splits with positive gain, best gain: -inf\n",
      "[LightGBM] [Warning] No further splits with positive gain, best gain: -inf\n",
      "[LightGBM] [Warning] No further splits with positive gain, best gain: -inf\n",
      "[LightGBM] [Warning] No further splits with positive gain, best gain: -inf\n",
      "[LightGBM] [Warning] No further splits with positive gain, best gain: -inf\n",
      "[LightGBM] [Warning] No further splits with positive gain, best gain: -inf\n",
      "[LightGBM] [Warning] No further splits with positive gain, best gain: -inf\n",
      "[LightGBM] [Warning] No further splits with positive gain, best gain: -inf\n",
      "[LightGBM] [Warning] No further splits with positive gain, best gain: -inf\n",
      "[LightGBM] [Warning] No further splits with positive gain, best gain: -inf\n",
      "[LightGBM] [Warning] No further splits with positive gain, best gain: -inf\n",
      "[LightGBM] [Warning] No further splits with positive gain, best gain: -inf\n",
      "[LightGBM] [Warning] No further splits with positive gain, best gain: -inf\n",
      "[LightGBM] [Warning] No further splits with positive gain, best gain: -inf\n",
      "[LightGBM] [Warning] No further splits with positive gain, best gain: -inf\n",
      "[LightGBM] [Warning] No further splits with positive gain, best gain: -inf\n",
      "[LightGBM] [Warning] No further splits with positive gain, best gain: -inf\n",
      "[LightGBM] [Warning] No further splits with positive gain, best gain: -inf\n",
      "[LightGBM] [Warning] No further splits with positive gain, best gain: -inf\n",
      "[LightGBM] [Warning] No further splits with positive gain, best gain: -inf\n",
      "[LightGBM] [Warning] No further splits with positive gain, best gain: -inf\n",
      "[LightGBM] [Warning] No further splits with positive gain, best gain: -inf\n",
      "[LightGBM] [Warning] No further splits with positive gain, best gain: -inf\n",
      "[LightGBM] [Warning] No further splits with positive gain, best gain: -inf\n",
      "[LightGBM] [Warning] No further splits with positive gain, best gain: -inf\n",
      "[LightGBM] [Warning] No further splits with positive gain, best gain: -inf\n",
      "[LightGBM] [Warning] No further splits with positive gain, best gain: -inf\n",
      "[LightGBM] [Warning] No further splits with positive gain, best gain: -inf\n",
      "[LightGBM] [Warning] No further splits with positive gain, best gain: -inf\n",
      "[LightGBM] [Warning] No further splits with positive gain, best gain: -inf\n",
      "[LightGBM] [Warning] No further splits with positive gain, best gain: -inf\n",
      "[LightGBM] [Warning] No further splits with positive gain, best gain: -inf\n",
      "[LightGBM] [Warning] No further splits with positive gain, best gain: -inf\n",
      "[LightGBM] [Warning] No further splits with positive gain, best gain: -inf\n",
      "[LightGBM] [Warning] No further splits with positive gain, best gain: -inf\n",
      "[LightGBM] [Warning] No further splits with positive gain, best gain: -inf\n"
     ]
    }
   ],
   "source": [
    "model = train_model(train_data, dummy_parameters)"
   ]
  },
  {
   "cell_type": "code",
   "execution_count": 6,
   "id": "39760cfe",
   "metadata": {},
   "outputs": [
    {
     "data": {
      "text/html": [
       "<pre style=\"white-space:pre;overflow-x:auto;line-height:normal;font-family:Menlo,'DejaVu Sans Mono',consolas,'Courier New',monospace\"><span style=\"color: #7fbfbf; text-decoration-color: #7fbfbf\">[12/25/23 16:00:24] </span><span style=\"color: #000080; text-decoration-color: #000080\">INFO    </span> SMAPE of model -  RandomForestRegressor is: <span style=\"color: #008080; text-decoration-color: #008080; font-weight: bold\">41.246198666553056</span>             <a href=\"file:///home/karl/forecasting_projects/kedro-sales-forecast/src/kedro_sales_forecast/pipelines/train/nodes.py\" target=\"_blank\"><span style=\"color: #7f7f7f; text-decoration-color: #7f7f7f\">nodes.py</span></a><span style=\"color: #7f7f7f; text-decoration-color: #7f7f7f\">:</span><a href=\"file:///home/karl/forecasting_projects/kedro-sales-forecast/src/kedro_sales_forecast/pipelines/train/nodes.py#98\" target=\"_blank\"><span style=\"color: #7f7f7f; text-decoration-color: #7f7f7f\">98</span></a>\n",
       "</pre>\n"
      ],
      "text/plain": [
       "\u001b[2;36m[12/25/23 16:00:24]\u001b[0m\u001b[2;36m \u001b[0m\u001b[34mINFO    \u001b[0m SMAPE of model -  RandomForestRegressor is: \u001b[1;36m41.246198666553056\u001b[0m             \u001b]8;id=133803;file:///home/karl/forecasting_projects/kedro-sales-forecast/src/kedro_sales_forecast/pipelines/train/nodes.py\u001b\\\u001b[2mnodes.py\u001b[0m\u001b]8;;\u001b\\\u001b[2m:\u001b[0m\u001b]8;id=323667;file:///home/karl/forecasting_projects/kedro-sales-forecast/src/kedro_sales_forecast/pipelines/train/nodes.py#98\u001b\\\u001b[2m98\u001b[0m\u001b]8;;\u001b\\\n"
      ]
     },
     "metadata": {},
     "output_type": "display_data"
    },
    {
     "data": {
      "text/html": [
       "<pre style=\"white-space:pre;overflow-x:auto;line-height:normal;font-family:Menlo,'DejaVu Sans Mono',consolas,'Courier New',monospace\"><span style=\"color: #7fbfbf; text-decoration-color: #7fbfbf\">                    </span><span style=\"color: #000080; text-decoration-color: #000080\">INFO    </span> SMAPE of model -  XGBRegressor is: <span style=\"color: #008080; text-decoration-color: #008080; font-weight: bold\">41.819113887837666</span>                      <a href=\"file:///home/karl/forecasting_projects/kedro-sales-forecast/src/kedro_sales_forecast/pipelines/train/nodes.py\" target=\"_blank\"><span style=\"color: #7f7f7f; text-decoration-color: #7f7f7f\">nodes.py</span></a><span style=\"color: #7f7f7f; text-decoration-color: #7f7f7f\">:</span><a href=\"file:///home/karl/forecasting_projects/kedro-sales-forecast/src/kedro_sales_forecast/pipelines/train/nodes.py#98\" target=\"_blank\"><span style=\"color: #7f7f7f; text-decoration-color: #7f7f7f\">98</span></a>\n",
       "</pre>\n"
      ],
      "text/plain": [
       "\u001b[2;36m                   \u001b[0m\u001b[2;36m \u001b[0m\u001b[34mINFO    \u001b[0m SMAPE of model -  XGBRegressor is: \u001b[1;36m41.819113887837666\u001b[0m                      \u001b]8;id=668721;file:///home/karl/forecasting_projects/kedro-sales-forecast/src/kedro_sales_forecast/pipelines/train/nodes.py\u001b\\\u001b[2mnodes.py\u001b[0m\u001b]8;;\u001b\\\u001b[2m:\u001b[0m\u001b]8;id=831715;file:///home/karl/forecasting_projects/kedro-sales-forecast/src/kedro_sales_forecast/pipelines/train/nodes.py#98\u001b\\\u001b[2m98\u001b[0m\u001b]8;;\u001b\\\n"
      ]
     },
     "metadata": {},
     "output_type": "display_data"
    },
    {
     "data": {
      "text/html": [
       "<pre style=\"white-space:pre;overflow-x:auto;line-height:normal;font-family:Menlo,'DejaVu Sans Mono',consolas,'Courier New',monospace\"><span style=\"color: #7fbfbf; text-decoration-color: #7fbfbf\">                    </span><span style=\"color: #000080; text-decoration-color: #000080\">INFO    </span> SMAPE of model -  LGBMRegressor is: <span style=\"color: #008080; text-decoration-color: #008080; font-weight: bold\">44.91470427956856</span>                      <a href=\"file:///home/karl/forecasting_projects/kedro-sales-forecast/src/kedro_sales_forecast/pipelines/train/nodes.py\" target=\"_blank\"><span style=\"color: #7f7f7f; text-decoration-color: #7f7f7f\">nodes.py</span></a><span style=\"color: #7f7f7f; text-decoration-color: #7f7f7f\">:</span><a href=\"file:///home/karl/forecasting_projects/kedro-sales-forecast/src/kedro_sales_forecast/pipelines/train/nodes.py#98\" target=\"_blank\"><span style=\"color: #7f7f7f; text-decoration-color: #7f7f7f\">98</span></a>\n",
       "</pre>\n"
      ],
      "text/plain": [
       "\u001b[2;36m                   \u001b[0m\u001b[2;36m \u001b[0m\u001b[34mINFO    \u001b[0m SMAPE of model -  LGBMRegressor is: \u001b[1;36m44.91470427956856\u001b[0m                      \u001b]8;id=374585;file:///home/karl/forecasting_projects/kedro-sales-forecast/src/kedro_sales_forecast/pipelines/train/nodes.py\u001b\\\u001b[2mnodes.py\u001b[0m\u001b]8;;\u001b\\\u001b[2m:\u001b[0m\u001b]8;id=854384;file:///home/karl/forecasting_projects/kedro-sales-forecast/src/kedro_sales_forecast/pipelines/train/nodes.py#98\u001b\\\u001b[2m98\u001b[0m\u001b]8;;\u001b\\\n"
      ]
     },
     "metadata": {},
     "output_type": "display_data"
    }
   ],
   "source": [
    "pred, _ = evaluate_model(model, test_data, dummy_parameters)"
   ]
  },
  {
   "cell_type": "code",
   "execution_count": 7,
   "id": "4f116f84",
   "metadata": {},
   "outputs": [],
   "source": [
    "metric_columns = {'RandomForestRegressor', 'XGBRegressor', 'LGBMRegressor'}\n",
    "assert metric_columns.issubset(set(list(pred.columns)))"
   ]
  },
  {
   "cell_type": "code",
   "execution_count": 8,
   "id": "ab0f7d04",
   "metadata": {},
   "outputs": [
    {
     "data": {
      "text/html": [
       "<pre style=\"white-space:pre;overflow-x:auto;line-height:normal;font-family:Menlo,'DejaVu Sans Mono',consolas,'Courier New',monospace\"></pre>\n"
      ],
      "text/plain": []
     },
     "metadata": {},
     "output_type": "display_data"
    },
    {
     "data": {
      "text/plain": [
       "\u001b[1m<\u001b[0m\u001b[1;95mAxes:\u001b[0m\u001b[39m \u001b[0m\u001b[33mtitle\u001b[0m\u001b[39m=\u001b[0m\u001b[1;39m{\u001b[0m\u001b[32m'center'\u001b[0m\u001b[39m: \u001b[0m\u001b[32m'Feature Importance XGBRegressor'\u001b[0m\u001b[1;39m}\u001b[0m\u001b[1m>\u001b[0m"
      ]
     },
     "execution_count": 8,
     "metadata": {},
     "output_type": "execute_result"
    },
    {
     "data": {
      "text/html": [
       "<pre style=\"white-space:pre;overflow-x:auto;line-height:normal;font-family:Menlo,'DejaVu Sans Mono',consolas,'Courier New',monospace\"></pre>\n"
      ],
      "text/plain": []
     },
     "metadata": {},
     "output_type": "display_data"
    },
    {
     "data": {
      "image/png": "[encoded data removed]",
      "text/plain": [
       "\u001b[1m<\u001b[0m\u001b[1;95mFigure\u001b[0m\u001b[39m size 64\u001b[0m\u001b[1;36m0x480\u001b[0m\u001b[39m with \u001b[0m\u001b[1;36m1\u001b[0m\u001b[39m Axes\u001b[0m\u001b[1m>\u001b[0m"
      ]
     },
     "metadata": {},
     "output_type": "display_data"
    }
   ],
   "source": [
    "pd.Series(model.models_['XGBRegressor'].feature_importances_, index=model.ts.features_order_).sort_values(ascending=False).plot.bar(title='Feature Importance XGBRegressor')"
   ]
  },
  {
   "cell_type": "code",
   "execution_count": null,
   "id": "7e0be8c6",
   "metadata": {},
   "outputs": [],
   "source": []
  },
  {
   "cell_type": "code",
   "execution_count": null,
   "id": "7e96ecfa",
   "metadata": {},
   "outputs": [],
   "source": []
  }
 ],
 "metadata": {
  "kernelspec": {
   "display_name": "Kedro (kedro_sales_forecast)",
   "language": "python",
   "name": "kedro_kedro_sales_forecast"
  },
  "language_info": {
   "codemirror_mode": {
    "name": "ipython",
    "version": 3
   },
   "file_extension": ".py",
   "mimetype": "text/x-python",
   "name": "python",
   "nbconvert_exporter": "python",
   "pygments_lexer": "ipython3",
   "version": "3.9.18"
  }
 },
 "nbformat": 4,
 "nbformat_minor": 5
}
